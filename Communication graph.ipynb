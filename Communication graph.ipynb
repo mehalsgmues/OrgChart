{
 "cells": [
  {
   "cell_type": "code",
   "execution_count": 1,
   "id": "0b40141d",
   "metadata": {},
   "outputs": [],
   "source": [
    "from pyvis.network import Network"
   ]
  },
  {
   "cell_type": "code",
   "execution_count": 24,
   "id": "e1020d61",
   "metadata": {},
   "outputs": [],
   "source": [
    "labels = [' BG ','GartenTeam','Buchhaltung','KoopStelle','GSZ','Liefernde','Medien','Politik','Technikum','Uni etc.\\n Forschung',\n",
    "         'Bauern \\n öko-koop', 'Mitglieder', 'Andere Solawi','Juntagrico','Mitgliederverwaltung','Depot Verantwortlichen',\n",
    "         'WOmail Redaktion','Jungpflanzgruppe','Einmachgruppe','GWH-Gruppe', 'IT', 'GZA Wolfswinkel']"
   ]
  },
  {
   "cell_type": "code",
   "execution_count": 31,
   "id": "d2785a9d",
   "metadata": {},
   "outputs": [],
   "source": [
    "colors = ['#1e3b21']*len(labels) # base color\n",
    "colors[0] = '#9cb84d' # BG\n",
    "colors[1] = '#9cb84d' # Gartenteam\n",
    "colors[11] = '#ed6c77' # Mitglieder\n",
    "colors[2] = '#ffdf00' # Buchhaltung\n",
    "colors[14] = '#ffdf00' # Mitgliederverwaltung\n",
    "colors[16] = '#ffdf00' # WOmail\n",
    "colors[20] = '#ffdf00' # IT"
   ]
  },
  {
   "cell_type": "code",
   "execution_count": 22,
   "id": "cd8a5802",
   "metadata": {},
   "outputs": [],
   "source": [
    "shapes = ['dot']*len(labels)\n",
    "shapes[0] = 'ellipse'\n",
    "shapes[1] = 'ellipse'\n",
    "shapes[11] = 'ellipse'"
   ]
  },
  {
   "cell_type": "code",
   "execution_count": 32,
   "id": "c34d6e64",
   "metadata": {},
   "outputs": [
    {
     "name": "stdout",
     "output_type": "stream",
     "text": [
      "Warning: When  cdn_resources is 'local' jupyter notebook has issues displaying graphics on chrome/safari. Use cdn_resources='in_line' or cdn_resources='remote' if you have issues viewing graphics in a notebook.\n",
      "Kommunikation_netzwerk.html\n"
     ]
    },
    {
     "data": {
      "text/html": [
       "\n",
       "        <iframe\n",
       "            width=\"100%\"\n",
       "            height=\"600px\"\n",
       "            src=\"Kommunikation_netzwerk.html\"\n",
       "            frameborder=\"0\"\n",
       "            allowfullscreen\n",
       "        ></iframe>\n",
       "        "
      ],
      "text/plain": [
       "<IPython.lib.display.IFrame at 0x7fb9f0a2e700>"
      ]
     },
     "execution_count": 32,
     "metadata": {},
     "output_type": "execute_result"
    }
   ],
   "source": [
    "net = Network(notebook=True, \n",
    "              #font_color= '#775740'\n",
    "             )\n",
    "net.add_nodes(list(range(len(labels))), label=labels, \n",
    "             color = colors, shape = shapes)\n",
    "net.add_edges([(0, 1, 4), (0, 12), (0, 2), (0, 11, 4), (1,2), (0,7),(1,5),(1,6),(1,9),(1,10), (11,14),\n",
    "              (11,15),(1,17),(1,18), (0,4), (1,4), (1,8), (0,16), (16,11), (0,3), (0,20), (1,20), (2,20), \n",
    "               (14, 20), (13, 20), (11,20), (16,20), (1,11,4), (1,21), (1,19), (2,14)])\n",
    "net.show('Kommunikation_netzwerk.html')"
   ]
  },
  {
   "cell_type": "code",
   "execution_count": null,
   "id": "194e0303",
   "metadata": {},
   "outputs": [],
   "source": []
  }
 ],
 "metadata": {
  "kernelspec": {
   "display_name": "Python 3",
   "language": "python",
   "name": "python3"
  },
  "language_info": {
   "codemirror_mode": {
    "name": "ipython",
    "version": 3
   },
   "file_extension": ".py",
   "mimetype": "text/x-python",
   "name": "python",
   "nbconvert_exporter": "python",
   "pygments_lexer": "ipython3",
   "version": "3.8.3"
  },
  "varInspector": {
   "cols": {
    "lenName": 16,
    "lenType": 16,
    "lenVar": 40
   },
   "kernels_config": {
    "python": {
     "delete_cmd_postfix": "",
     "delete_cmd_prefix": "del ",
     "library": "var_list.py",
     "varRefreshCmd": "print(var_dic_list())"
    },
    "r": {
     "delete_cmd_postfix": ") ",
     "delete_cmd_prefix": "rm(",
     "library": "var_list.r",
     "varRefreshCmd": "cat(var_dic_list()) "
    }
   },
   "types_to_exclude": [
    "module",
    "function",
    "builtin_function_or_method",
    "instance",
    "_Feature"
   ],
   "window_display": false
  }
 },
 "nbformat": 4,
 "nbformat_minor": 5
}
